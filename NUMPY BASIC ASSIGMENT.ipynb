{
 "cells": [
  {
   "cell_type": "code",
   "execution_count": 1,
   "id": "45a99b0e-3d66-486d-a421-ac14d2687232",
   "metadata": {},
   "outputs": [],
   "source": [
    "# JAI MAA SARASWATI"
   ]
  },
  {
   "cell_type": "markdown",
   "id": "34992791-7a0f-4457-a3a4-d0e3e908025d",
   "metadata": {},
   "source": [
    "Q1. Is there any difference in the data type of variables list_ and array_list? If there is then write a code\n",
    "to print the data types of both the variables."
   ]
  },
  {
   "cell_type": "code",
   "execution_count": 7,
   "id": "94ba0012-4178-48d1-b023-963b88cc6eea",
   "metadata": {},
   "outputs": [],
   "source": [
    "import numpy as np\n",
    "list = [1,2,3,4,5]\n",
    "array_list = np.array(list)"
   ]
  },
  {
   "cell_type": "markdown",
   "id": "c9933b64-a96d-4ae8-a58b-4987aefc01c9",
   "metadata": {},
   "source": [
    "YES THERE IS THE DIFFERNCE IN THE BOTH DATA TYPES . \n",
    "\n",
    "* LIST IS THE STANDARD TYPES OF LIST IN THE PYTHON \n",
    "\n",
    "* ARRAY_LIST IS NUMPY ARRAY . \n",
    "\n",
    "let us printing the both list ^_^"
   ]
  },
  {
   "cell_type": "code",
   "execution_count": 10,
   "id": "5467207b-d223-4d58-a443-7f76106fff55",
   "metadata": {},
   "outputs": [
    {
     "name": "stdout",
     "output_type": "stream",
     "text": [
      " DATA TYPE OF LIST: <class 'list'>\n",
      " DATA TYPE OF ARRAY_LIST: <class 'numpy.ndarray'>\n"
     ]
    }
   ],
   "source": [
    "list = [1,2,3,4,5]\n",
    "array_list = np.array(list)\n",
    "print(\" DATA TYPE OF LIST:\" , type(list))\n",
    "print(\" DATA TYPE OF ARRAY_LIST:\" , type(array_list))"
   ]
  },
  {
   "cell_type": "markdown",
   "id": "d6ef03e9-7675-400d-bdc1-0c6de31cd4de",
   "metadata": {},
   "source": [
    "Q2. Write a code to print the data type of each and every element of both the variables list_ and\n",
    "arra_list."
   ]
  },
  {
   "cell_type": "code",
   "execution_count": 11,
   "id": "e0bd9842-864d-4cc8-a125-bd10007d5aa4",
   "metadata": {},
   "outputs": [
    {
     "name": "stdout",
     "output_type": "stream",
     "text": [
      " Data type of element in list:\n",
      "<class 'int'>\n",
      "<class 'int'>\n",
      "<class 'int'>\n",
      "<class 'int'>\n",
      "<class 'int'>\n",
      "\n",
      "Data types of element in array_list:\n",
      "<class 'numpy.ndarray'>\n",
      "<class 'numpy.ndarray'>\n",
      "<class 'numpy.ndarray'>\n",
      "<class 'numpy.ndarray'>\n",
      "<class 'numpy.ndarray'>\n"
     ]
    }
   ],
   "source": [
    "list = [1,2,3,4,5]\n",
    "array_list = np.array(list)\n",
    " \n",
    "# Print the data type of every element of the list :-\n",
    "print(\" Data type of element in list:\")\n",
    "for element in list:\n",
    "    print(type(element))\n",
    "\n",
    "# Print the Data type of every element in the array_list :-\n",
    "print(\"\\nData types of element in array_list:\")\n",
    "for element in array_list:\n",
    "    print(type(array_list))"
   ]
  },
  {
   "cell_type": "markdown",
   "id": "e7f08e46-d9b4-4fb1-9f18-2eb9ff5abf41",
   "metadata": {},
   "source": [
    "Q3. Considering the following changes in the variable, array_list:\n",
    "\n",
    "array_list = np.array(object = list_, dtype = int)\n",
    "\n",
    "Will there be any difference in the data type of the elements present in both the variables, list_ and\n",
    "arra_list? If so then print the data types of each and every element present in both the variables, list_\n",
    "and arra_list."
   ]
  },
  {
   "cell_type": "markdown",
   "id": "b499c8fe-f02c-4ef9-a601-8597e9bef666",
   "metadata": {},
   "source": [
    "Yes there is difference between the list and array_list :-\n",
    "\n",
    "* List => it is a standard list of the python and when we print the list it give the class list .\n",
    "* array_list => It is a type of array_list of Numpy Library and when we print it then it gives the array data type"
   ]
  },
  {
   "cell_type": "code",
   "execution_count": 16,
   "id": "f0bb5703-26dd-432a-9a55-ca6e9b093b8f",
   "metadata": {},
   "outputs": [
    {
     "name": "stdout",
     "output_type": "stream",
     "text": [
      " Data type of the element in the list:\n",
      "<class 'int'>\n",
      "<class 'int'>\n",
      "<class 'int'>\n",
      "<class 'int'>\n",
      "<class 'int'>\n",
      " Data type of the element in the array_list\n",
      "<class 'numpy.int64'>\n",
      "<class 'numpy.int64'>\n",
      "<class 'numpy.int64'>\n",
      "<class 'numpy.int64'>\n",
      "<class 'numpy.int64'>\n"
     ]
    }
   ],
   "source": [
    "list = [1,2,3,4,5]\n",
    "array_list = np.array(list , dtype = int)\n",
    "\n",
    "# Print the element Data type present in the list:-\n",
    "print(\" Data type of the element in the list:\")\n",
    "for i in list:\n",
    "    print(type(i))\n",
    "    \n",
    "# Print the element Data type present in the array_list:-\n",
    "print(\" Data type of the element in the array_list\")\n",
    "for ss in array_list:\n",
    "    print(type(ss))"
   ]
  },
  {
   "cell_type": "code",
   "execution_count": 18,
   "id": "8d4e2269-5d92-4f34-ad5e-c1ea07b65a91",
   "metadata": {},
   "outputs": [],
   "source": [
    "# Consider the below code to answer further questions:-\n",
    "import numpy as np\n",
    "num_list = [ [ 1 , 2 , 3 ] , [ 4 , 5 , 6 ] ]\n",
    "num_array = np.array(object = num_list)"
   ]
  },
  {
   "cell_type": "markdown",
   "id": "9255dd8a-0129-41c3-81fb-f95eaebf094d",
   "metadata": {},
   "source": [
    "Q4. Write a code to find the following characteristics of variable, num_array:\n",
    "(i)\t shape\n",
    "(ii) size"
   ]
  },
  {
   "cell_type": "code",
   "execution_count": 21,
   "id": "ca5d9ab7-f99d-4561-bde0-55464aa4ab5c",
   "metadata": {},
   "outputs": [
    {
     "name": "stdout",
     "output_type": "stream",
     "text": [
      "Shape of the array_list: (2, 3)\n",
      "Size of the array_list: 6\n"
     ]
    }
   ],
   "source": [
    "# Shape of the array_list:-\n",
    "shape_of_array = np.shape(num_array)\n",
    "print(\"Shape of the array_list:\" , shape_of_array)\n",
    "\n",
    "# Size of the array_list:-\n",
    "size_of_array = np.size(num_array)\n",
    "print(\"Size of the array_list:\" , size_of_array)"
   ]
  },
  {
   "cell_type": "markdown",
   "id": "3f0cda62-3c2f-4dd3-985f-6ddf68eaacda",
   "metadata": {},
   "source": [
    "Q5. Write a code to create numpy array of 3*3 matrix containing zeros only, using a numpy array\n",
    "creation function.\n",
    "\n",
    "[Hint: The size of the array will be 9 and the shape will be (3,3).]"
   ]
  },
  {
   "cell_type": "code",
   "execution_count": 25,
   "id": "de5919ee-7663-4440-9bf4-e9eb1a0e90a9",
   "metadata": {},
   "outputs": [
    {
     "name": "stdout",
     "output_type": "stream",
     "text": [
      "Zero matrix with 3x3:\n",
      "[[0. 0. 0.]\n",
      " [0. 0. 0.]\n",
      " [0. 0. 0.]]\n"
     ]
    }
   ],
   "source": [
    "# Create the 3x3 matrix with zeroes\n",
    "zero_matrix = np.zeros((3,3))\n",
    "print(\"Zero matrix with 3x3:\")\n",
    "print(zero_matrix)"
   ]
  },
  {
   "cell_type": "markdown",
   "id": "b97e45cf-cdb2-4674-b040-c79c79664fee",
   "metadata": {},
   "source": [
    "Q6. Create an identity matrix of shape (5,5) using numpy functions?\n",
    "\n",
    "[Hint: An identity matrix is a matrix containing 1 diagonally and other elements will be 0.]"
   ]
  },
  {
   "cell_type": "code",
   "execution_count": 26,
   "id": "534eb590-20e8-4fe2-8fc8-3799a30c664b",
   "metadata": {},
   "outputs": [
    {
     "name": "stdout",
     "output_type": "stream",
     "text": [
      "Identity matrix with 5x5:\n",
      "[[1. 0. 0. 0. 0.]\n",
      " [0. 1. 0. 0. 0.]\n",
      " [0. 0. 1. 0. 0.]\n",
      " [0. 0. 0. 1. 0.]\n",
      " [0. 0. 0. 0. 1.]]\n"
     ]
    }
   ],
   "source": [
    "# Create Identity matrix 5x5\n",
    "identity_matrix = np.identity(5)\n",
    "print(\"Identity matrix with 5x5:\")\n",
    "print(identity_matrix)"
   ]
  },
  {
   "cell_type": "code",
   "execution_count": null,
   "id": "d43e5b50-4fdd-4f0e-849a-84a791c9915d",
   "metadata": {},
   "outputs": [],
   "source": []
  }
 ],
 "metadata": {
  "kernelspec": {
   "display_name": "Python 3 (ipykernel)",
   "language": "python",
   "name": "python3"
  },
  "language_info": {
   "codemirror_mode": {
    "name": "ipython",
    "version": 3
   },
   "file_extension": ".py",
   "mimetype": "text/x-python",
   "name": "python",
   "nbconvert_exporter": "python",
   "pygments_lexer": "ipython3",
   "version": "3.10.8"
  }
 },
 "nbformat": 4,
 "nbformat_minor": 5
}
